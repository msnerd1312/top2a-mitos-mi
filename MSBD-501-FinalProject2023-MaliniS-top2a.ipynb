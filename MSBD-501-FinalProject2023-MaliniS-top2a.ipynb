{
 "cells": [
  {
   "cell_type": "code",
   "execution_count": null,
   "metadata": {},
   "outputs": [],
   "source": [
    "using MIToS\n",
    "using MIToS.MSA\n",
    "using MIToS.Information\n",
    "using StatsBase\n",
    "using Plots\n",
    "using LinearAlgebra\n",
    "using Distances\n",
    "using Clustering\n",
    "using PairwiseListMatrices\n",
    "using Statistics\n",
    "using GraphRecipes\n",
    "using DataFrames\n",
    "using StatsPlots "
   ]
  },
  {
   "cell_type": "code",
   "execution_count": null,
   "metadata": {},
   "outputs": [],
   "source": [
    "# Truncate IJulia outputs at:\n",
    "ENV[\"LINES\"]   = 20 \n",
    "ENV[\"COLUMNS\"] = 600;"
   ]
  },
  {
   "cell_type": "markdown",
   "metadata": {},
   "source": [
    "## Reading MSA files\n",
    "### The main function for reading MSA files in MIToS is read and it is defined in the Utils module. This function takes a filename/path as a first argument followed by other arguments. It opens the file and uses the arguments to call the parse function. read decides how to open the file, using the prefixes (e.g. https) and suffixes (i.e. extensions) of the file name, while parse does the actual parsing of the file. You can read gzipped files if they have the .gz extension and also urls pointing to a web file. The second argument of read and parse is the file FileFormat. The supported MSA formats at the moment are Stockholm, FASTA, PIR (NBRF) and Raw. "
   ]
  },
  {
   "cell_type": "code",
   "execution_count": null,
   "metadata": {},
   "outputs": [],
   "source": [
    "fasta_file = \"top2a.fa\"\n",
    "#fasta_file = \"\"\n",
    "msa = read(fasta_file, FASTA, generatemapping=true, useidcoordinates=true)\n",
    "println(\"This MSA has \", nsequences(msa), \" sequences...\")\n",
    "#fig = plotmsa(msa; colorscheme = :tableau_blue_green)"
   ]
  },
  {
   "cell_type": "markdown",
   "metadata": {},
   "source": [
    "## Limiting the data from 556 to 1000 sequences"
   ]
  },
  {
   "cell_type": "code",
   "execution_count": null,
   "metadata": {},
   "outputs": [],
   "source": [
    "msa = msa[:,556:1000]"
   ]
  },
  {
   "cell_type": "markdown",
   "metadata": {},
   "source": [
    "## Describing your MSA\n",
    "### The MSA module has a number of functions to gain insight about your MSA. \n",
    "### Using MIToS.MSA, one can easily ask for:\n",
    "\n",
    "#### The number of columns and sequences with the ncolumns and nsequences functions.\n",
    "#### The fraction of columns with residues (coverage) for each sequence making use of the coverage method.\n",
    "\n",
    "#### The fraction or percentage of gaps/residues using with the functions gapfraction, residuefraction and columngapfraction.\n",
    "\n",
    "#### The percentage of identity (PID) between each sequence of the MSA or its mean value"
   ]
  },
  {
   "cell_type": "code",
   "execution_count": null,
   "metadata": {},
   "outputs": [],
   "source": [
    "coverage(msa)"
   ]
  },
  {
   "cell_type": "markdown",
   "metadata": {},
   "source": [
    "#### The gapfraction and coverage functions return a vector of numbers between 0.0 and 1.0 (fraction of...). Sometime it's useful to plot this data to quickly understand the MSA structure. In this example, we are going to use the Plots package for plotting, with the GR backend, but you are free to use any of the Julia plotting libraries."
   ]
  },
  {
   "cell_type": "code",
   "execution_count": null,
   "metadata": {},
   "outputs": [],
   "source": [
    "columngapfraction(msa)"
   ]
  },
  {
   "cell_type": "code",
   "execution_count": null,
   "metadata": {},
   "outputs": [],
   "source": [
    "gr(size=(600,300))\n",
    "\n",
    "plot(   1:ncolumns(msa), # x is a range from 1 to the number of columns\n",
    "        vec(columngapfraction(msa)) .* 100.0, # y is a Vector{Float64} with the percentage of gaps of each column\n",
    "        linetype = :line,\n",
    "        ylabel = \"gaps [%]\",\n",
    "        xlabel = \"columns\",\n",
    "        legend=false)"
   ]
  },
  {
   "cell_type": "code",
   "execution_count": null,
   "metadata": {},
   "outputs": [],
   "source": [
    "plot(   1:nsequences(msa), # x is a range from 1 to the number of sequences\n",
    "        vec(coverage(msa)) .* 100, # y is a Vector{Float64} with the coverage of each sequence\n",
    "        linetype = :line,\n",
    "        ylabel = \"coverage [%]\",\n",
    "        xlabel = \"sequences\",\n",
    "        legend=false)"
   ]
  },
  {
   "cell_type": "code",
   "execution_count": null,
   "metadata": {},
   "outputs": [],
   "source": [
    "plot(msa)"
   ]
  },
  {
   "cell_type": "markdown",
   "metadata": {},
   "source": [
    "#### Example: Filter sequences per coverage and columns per gap fraction\n",
    "#### Taking advantage of the filter...! functions and the coverage and columngapfraction functions, it's possible to delete short sequences or columns with a lot of gaps."
   ]
  },
  {
   "cell_type": "code",
   "execution_count": null,
   "metadata": {},
   "outputs": [],
   "source": [
    "println(\"\\tsequences\\tcolumns\")\n",
    "println( \"Before:\\t\", nsequences(msa), \"\\t\\t\", ncolumns(msa)  )\n",
    "# delete sequences with less than 90% coverage of the MSA length:\n",
    "filtersequences!(msa, coverage(msa) .>= 0.9)\n",
    "# delete columns with more than 10% of gaps:\n",
    "filtercolumns!(msa, columngapfraction(msa) .<= 0.1)\n",
    "println( \"After:\\t\", nsequences(msa), \"\\t\\t\",  ncolumns(msa)  )"
   ]
  },
  {
   "cell_type": "code",
   "execution_count": null,
   "metadata": {},
   "outputs": [],
   "source": [
    "histogram(  vec(columngapfraction(msa)),\n",
    "            # Using vec() to get a Vector{Float64} with the fraction of gaps of each column\n",
    "            xlabel = \"gap fraction in [0,1]\", bins = 10, legend = false)"
   ]
  },
  {
   "cell_type": "code",
   "execution_count": null,
   "metadata": {},
   "outputs": [],
   "source": [
    "histogram(  vec(coverage(msa) .* 100.0), #  Column with the coverage of each sequence\n",
    "            xlabel = \"coverage [%]\", legend=false)"
   ]
  },
  {
   "cell_type": "markdown",
   "metadata": {},
   "source": [
    "### Plotting the percentage of identity between sequences\n",
    "#### The distribution of the percentage of identity between every pair of sequences in an MSA, gives an idea of the MSA diversity. In this example, we are using percentidentity over an MSA to get those identity values."
   ]
  },
  {
   "cell_type": "code",
   "execution_count": null,
   "metadata": {},
   "outputs": [],
   "source": [
    "pid = percentidentity(msa)"
   ]
  },
  {
   "cell_type": "code",
   "execution_count": null,
   "metadata": {},
   "outputs": [],
   "source": [
    "pidtable = to_table(pid, diagonal=false)"
   ]
  },
  {
   "cell_type": "code",
   "execution_count": null,
   "metadata": {},
   "outputs": [],
   "source": [
    "quantile(convert(Vector{Float64}, pidtable[:,3]), [0.00, 0.25, 0.50, 0.75, 1.00])"
   ]
  },
  {
   "cell_type": "code",
   "execution_count": null,
   "metadata": {},
   "outputs": [],
   "source": [
    "meanpercentidentity(msa)"
   ]
  },
  {
   "cell_type": "code",
   "execution_count": null,
   "metadata": {},
   "outputs": [],
   "source": [
    "gr()\n",
    "heatmap(convert(Matrix, pid), yflip=true, ratio=:equal)"
   ]
  },
  {
   "cell_type": "code",
   "execution_count": null,
   "metadata": {},
   "outputs": [],
   "source": [
    "histogram(pidtable[:,3], xlabel =\"Percentage of identity\", legend=false)"
   ]
  },
  {
   "cell_type": "code",
   "execution_count": null,
   "metadata": {},
   "outputs": [],
   "source": [
    "getresidues(msa)"
   ]
  },
  {
   "cell_type": "code",
   "execution_count": null,
   "metadata": {},
   "outputs": [],
   "source": [
    "getresiduesequences(msa)"
   ]
  },
  {
   "cell_type": "code",
   "execution_count": null,
   "metadata": {},
   "outputs": [],
   "source": [
    "sequencenames(msa)"
   ]
  },
  {
   "cell_type": "markdown",
   "metadata": {},
   "source": [
    "## MIToS.MSA.gapstrip"
   ]
  },
  {
   "cell_type": "markdown",
   "metadata": {},
   "source": [
    "Creates a new matrix of Residues (MSA) with deleted sequences and columns/positions. The MSA is edited in the following way:\n",
    "\n",
    "Removes all the columns/position on the MSA with gaps on the reference (first) sequence\n",
    "Removes all the sequences with a coverage with respect to the number of\n",
    "columns/positions on the MSA less than a coveragelimit (default to 0.75: sequences with 25% of gaps)\n",
    "\n",
    "Removes all the columns/position on the MSA with more than a gaplimit\n",
    "(default to 0.5: 50% of gaps)"
   ]
  },
  {
   "cell_type": "code",
   "execution_count": null,
   "metadata": {},
   "outputs": [],
   "source": [
    "msa1 = MIToS.MSA.gapstrip(msa,gaplimit=0.65)"
   ]
  },
  {
   "cell_type": "markdown",
   "metadata": {},
   "source": [
    "### Because matrices are stored columnwise in Julia, we use getresiduesequences function when we need to heavily operate over sequences."
   ]
  },
  {
   "cell_type": "code",
   "execution_count": null,
   "metadata": {},
   "outputs": [],
   "source": [
    "residues = getresidues(msa1) # estimateincolumns functions take a Matrix{Residue}"
   ]
  },
  {
   "cell_type": "markdown",
   "metadata": {},
   "source": []
  },
  {
   "cell_type": "markdown",
   "metadata": {},
   "source": [
    "## Count residues to estimate the entropy. \n",
    "The entropy estimation is performed over a rehused Counts object. The result will be a vector containing the values estimated over each column without counting gaps (UngappedAlphabet)."
   ]
  },
  {
   "cell_type": "code",
   "execution_count": null,
   "metadata": {},
   "outputs": [],
   "source": [
    "\n",
    "Hx = mapcolfreq!(entropy, msa, Counts(ContingencyTable(Float64, Val{1}, UngappedAlphabet())))"
   ]
  },
  {
   "cell_type": "markdown",
   "metadata": {},
   "source": [
    "#### In the above examples, we indicate the type of each occurrence in the counting and the probability table to use. Also, it's possible for some measures as entropy and mutual information, to estimate the values only with the count table (without calculate the probability table). \n",
    "#### Estimating measures only with a ResidueCount table, when this is possible, should be faster than using a probability table."
   ]
  },
  {
   "cell_type": "code",
   "execution_count": null,
   "metadata": {},
   "outputs": [],
   "source": [
    "#Hxy = mapcolpairfreq!(entropy, msa1, Counts(ContingencyTable(Float64, Val{2}, UngappedAlphabet())))"
   ]
  },
  {
   "cell_type": "code",
   "execution_count": null,
   "metadata": {},
   "outputs": [],
   "source": [
    "Time_Pab = map(1:100) do x\n",
    "    time = @elapsed mapcolpairfreq!(entropy, msa, Probabilities(ContingencyTable(Float64, Val{2}, UngappedAlphabet())))\n",
    "end\n",
    "\n",
    "Time_Nab = map(1:100) do x\n",
    "    time = @elapsed mapcolpairfreq!(entropy, msa, Counts(ContingencyTable(Float64, Val{2}, UngappedAlphabet())))\n",
    "end\n",
    "\n",
    "using Plots\n",
    "gr()\n",
    "\n",
    "histogram( [Time_Pab Time_Nab],\n",
    "    labels = [\"Using ResidueProbability\" \"Using ResidueCount\"],\n",
    "    xlabel = \"Execution time [seconds]\" )"
   ]
  },
  {
   "cell_type": "markdown",
   "metadata": {},
   "source": [
    "### Estimating H(X) and H(X, Y) over an MSA\n",
    "#### In this example, we are going to use mapcolfreq! and mapcolpairfreq! to estimate Shannon entropy of MSA columns H(X) and the joint entropy H(X, Y) of columns pairs, respectively."
   ]
  },
  {
   "cell_type": "code",
   "execution_count": null,
   "metadata": {},
   "outputs": [],
   "source": [
    "NMIxy = mapcolpairfreq!(normalized_mutual_information, msa1, Counts(ContingencyTable(Float64, Val{2}, GappedAlphabet())), Val{false})"
   ]
  },
  {
   "cell_type": "code",
   "execution_count": null,
   "metadata": {},
   "outputs": [],
   "source": [
    "NMIxy_transpose = mapcolpairfreq!(normalized_mutual_information, transpose(msa1), Counts(ContingencyTable(Float64, Val{2}, GappedAlphabet())), Val{false})"
   ]
  },
  {
   "cell_type": "code",
   "execution_count": null,
   "metadata": {},
   "outputs": [],
   "source": [
    "NMI_matrix_t = convert(Matrix{Float64}, NMIxy_transpose.array)"
   ]
  },
  {
   "cell_type": "markdown",
   "metadata": {},
   "source": [
    "## K-means\n",
    "### K-means is a classical method for clustering or vector quantization. It produces a fixed number of clusters, each associated with a center (also known as a prototype), and each data point is assigned to a cluster with the nearest center.\n",
    "\n",
    "### From a mathematical standpoint, K-means is a coordinate descent algorithm that solves the following optimization problem:\n",
    "\n",
    "\\begin{equation}\n",
    "\t\t\t\\text{min.}_{C_1,\\ldots,C_K} \\sum_{k=1}^{k} \\frac{1}{|C_k|} \\sum_{i, i^{'} \\in C_k} \\sum_{j=1}^{p} (x_{ij} - x_{i^{'}j})^2\n",
    "\\end{equation}\n"
   ]
  },
  {
   "cell_type": "markdown",
   "metadata": {},
   "source": [
    "### Number of Clusters = 5"
   ]
  },
  {
   "cell_type": "code",
   "execution_count": null,
   "metadata": {},
   "outputs": [],
   "source": [
    "num_cluster = 5"
   ]
  },
  {
   "cell_type": "code",
   "execution_count": null,
   "metadata": {},
   "outputs": [],
   "source": [
    "# cluster X into 20 clusters using K-means \n",
    "KClusters = kmeans(NMI_matrix_t, num_cluster; maxiter = 100,  \n",
    "                                display=:iter)"
   ]
  },
  {
   "cell_type": "code",
   "execution_count": null,
   "metadata": {},
   "outputs": [],
   "source": [
    "# verify the number of clusters \n",
    "nclusters(KClusters) == 5"
   ]
  },
  {
   "cell_type": "code",
   "execution_count": null,
   "metadata": {},
   "outputs": [],
   "source": [
    "# get the assignments of points to clusters \n",
    "cluster_assignment = assignments(KClusters) "
   ]
  },
  {
   "cell_type": "code",
   "execution_count": null,
   "metadata": {},
   "outputs": [],
   "source": [
    "# get the cluster sizes \n",
    "cnt = counts(KClusters) "
   ]
  },
  {
   "cell_type": "code",
   "execution_count": null,
   "metadata": {},
   "outputs": [],
   "source": [
    "# get the cluster centers \n",
    "Cluster_Center = KClusters.centers "
   ]
  },
  {
   "cell_type": "code",
   "execution_count": null,
   "metadata": {},
   "outputs": [],
   "source": [
    "df = DataFrame( seqnum = 1:nsequences(msa1),\n",
    "                seqname = sequencenames(msa1),\n",
    "                cluster = cluster_assignment, # the cluster number/index of each sequence\n",
    "                coverage = vec(coverage(msa1)))\n",
    "\n",
    "first(df, 20)"
   ]
  },
  {
   "cell_type": "markdown",
   "metadata": {},
   "source": [
    "### Group by clusters and calculate summary statistics"
   ]
  },
  {
   "cell_type": "code",
   "execution_count": null,
   "metadata": {},
   "outputs": [],
   "source": [
    "\n",
    "top_clusters = combine(\n",
    "    groupby(df, :cluster),\n",
    "    :seqnum => length => :n_sequences,\n",
    "    :coverage => mean => :mean_coverage\n",
    ")\n"
   ]
  },
  {
   "cell_type": "markdown",
   "metadata": {},
   "source": [
    "### Display the top clusters"
   ]
  },
  {
   "cell_type": "markdown",
   "metadata": {},
   "source": [
    "\n",
    "first(top_clusters, 20)  # Display the top 10 clusters"
   ]
  },
  {
   "cell_type": "code",
   "execution_count": null,
   "metadata": {},
   "outputs": [],
   "source": [
    "# Assuming you already have the df DataFrame with the specified columns\n",
    "df_filtered = filter(row -> row.cluster > 1, df)\n",
    "\n",
    "first(df_filtered, 20)"
   ]
  },
  {
   "cell_type": "markdown",
   "metadata": {},
   "source": [
    "### Plot using Histogram"
   ]
  },
  {
   "cell_type": "code",
   "execution_count": null,
   "metadata": {},
   "outputs": [],
   "source": [
    "h = @df df histogram(:cluster, ylabel=\"nseq\")\n",
    "p = @df df plot(:cluster, :coverage, linetype=:scatter)\n",
    "plot(p, h, nc=1, xlim=(0, nclusters(KClusters)+1 ), legend=false)"
   ]
  },
  {
   "cell_type": "code",
   "execution_count": null,
   "metadata": {},
   "outputs": [],
   "source": [
    "maxcoverage = by(df, :cluster, cl -> cl[ findmax(cl[:coverage])[2] ,\n",
    "                 [:seqnum, :seqname, :coverage]])\n",
    "\n",
    "first(maxcoverage, 20)"
   ]
  },
  {
   "cell_type": "markdown",
   "metadata": {},
   "source": [
    "### We use the Split-Apply-Combine strategy, though the by function of the DataFrames package, to select the sequence of highest coverage for each cluster."
   ]
  },
  {
   "cell_type": "code",
   "execution_count": null,
   "metadata": {},
   "outputs": [],
   "source": [
    "p = @df maxcoverage plot(:cluster, :coverage, linetype=:scatter)\n",
    "h = @df maxcoverage histogram(:cluster, ylabel=\"nseq\")\n",
    "plot(p, h, nc=1, xlim=(0, nclusters(KClusters)+1 ), legend=false)\n",
    "png(\"msa_clusters_iii.png\") # hide\n",
    "nothing # hide"
   ]
  },
  {
   "cell_type": "markdown",
   "metadata": {},
   "source": [
    "### We can easily generate a mask using list comprehension, to select only the representative sequences of the MSA (deleting the rest of the sequences with filtersequences!)."
   ]
  },
  {
   "cell_type": "code",
   "execution_count": null,
   "metadata": {},
   "outputs": [],
   "source": [
    "cluster_references = Bool[ seqnum in maxcoverage[:seqnum] for seqnum in 1:nsequences(msa1) ]"
   ]
  },
  {
   "cell_type": "code",
   "execution_count": null,
   "metadata": {},
   "outputs": [],
   "source": [
    "filtersequences!(msa1, cluster_references)"
   ]
  },
  {
   "cell_type": "code",
   "execution_count": null,
   "metadata": {},
   "outputs": [],
   "source": [
    "plot(msa1)"
   ]
  },
  {
   "cell_type": "code",
   "execution_count": null,
   "metadata": {},
   "outputs": [],
   "source": [
    "using Plots\n",
    "\n",
    "sum(KClusters.assignments.==5)"
   ]
  },
  {
   "cell_type": "code",
   "execution_count": null,
   "metadata": {},
   "outputs": [],
   "source": [
    "using GraphRecipes\n",
    "\n",
    "graphplot(NMI_matrix_t[1:10,1:10])"
   ]
  },
  {
   "cell_type": "code",
   "execution_count": null,
   "metadata": {},
   "outputs": [],
   "source": [
    "graphplot(UpperTriangular(NMI_matrix_t[1:10,1:10]))"
   ]
  },
  {
   "cell_type": "code",
   "execution_count": null,
   "metadata": {},
   "outputs": [],
   "source": [
    "scatter(KClusters.assignments)"
   ]
  },
  {
   "cell_type": "code",
   "execution_count": null,
   "metadata": {},
   "outputs": [],
   "source": [
    "heatmap(log2.(NMI_matrix_t), yflip=true)"
   ]
  },
  {
   "cell_type": "code",
   "execution_count": null,
   "metadata": {},
   "outputs": [],
   "source": [
    "# Create a scatter plot\n",
    "scatter(1:size(NMI_matrix_t, 2), NMI_matrix_t, color=cluster_assignment, legend=false)\n",
    "xlabel!(\"position\")\n",
    "ylabel!(\"seq\")\n",
    "\n"
   ]
  },
  {
   "cell_type": "markdown",
   "metadata": {},
   "source": [
    "### Principal Component Analysis (PCA) Plot\n",
    "Since the data has a high dimension, we can use PCA to reduce it to a few principal components and then plot the clusters."
   ]
  },
  {
   "cell_type": "code",
   "execution_count": null,
   "metadata": {},
   "outputs": [],
   "source": [
    "using MultivariateStats\n",
    "\n",
    "# Perform PCA\n",
    "pca_result = fit(PCA, NMI_matrix_t', maxoutdim=2)\n",
    "pca_data = MultivariateStats.transform(pca_result, NMI_matrix_t')\n",
    "\n",
    "# Create a PCA plot\n",
    "scatter(pca_data[1, :], pca_data[2, :], color=cluster_assignment, legend=false)\n",
    "xlabel!(\"Principal Component 1\")\n",
    "ylabel!(\"Principal Component 2\")"
   ]
  },
  {
   "cell_type": "code",
   "execution_count": null,
   "metadata": {},
   "outputs": [],
   "source": [
    "scatter3d(NMI_matrix_t[1, :], NMI_matrix_t[2, :], NMI_matrix_t[3, :], color=cluster_assignment, legend=false)\n"
   ]
  }
 ],
 "metadata": {
  "kernelspec": {
   "display_name": "Julia 1.9.4",
   "language": "julia",
   "name": "julia-1.9"
  },
  "language_info": {
   "file_extension": ".jl",
   "mimetype": "application/julia",
   "name": "julia",
   "version": "1.9.4"
  }
 },
 "nbformat": 4,
 "nbformat_minor": 2
}
